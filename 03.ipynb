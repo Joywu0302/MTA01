{
  "nbformat": 4,
  "nbformat_minor": 0,
  "metadata": {
    "colab": {
      "name": "Untitled2.ipynb",
      "provenance": [],
      "authorship_tag": "ABX9TyOuabLnF5+K5LP/+G/X5IMw",
      "include_colab_link": true
    },
    "kernelspec": {
      "name": "python3",
      "display_name": "Python 3"
    },
    "language_info": {
      "name": "python"
    }
  },
  "cells": [
    {
      "cell_type": "markdown",
      "metadata": {
        "id": "view-in-github",
        "colab_type": "text"
      },
      "source": [
        "<a href=\"https://colab.research.google.com/github/Joywu0302/MTA01/blob/main/03.ipynb\" target=\"_parent\"><img src=\"https://colab.research.google.com/assets/colab-badge.svg\" alt=\"Open In Colab\"/></a>"
      ]
    },
    {
      "cell_type": "code",
      "execution_count": 7,
      "metadata": {
        "colab": {
          "base_uri": "https://localhost:8080/"
        },
        "id": "JFmq9QAk7L0P",
        "outputId": "74dff6b4-968a-4672-9b5c-308c6a77726a"
      },
      "outputs": [
        {
          "output_type": "stream",
          "name": "stdout",
          "text": [
            "physics\n",
            "physics physics\n",
            "[2, 3, 4, 5] [2, 3, 4, 5]\n"
          ]
        }
      ],
      "source": [
        "list1 = ['physics', 'chemistry', 1997, 2000]\n",
        "\n",
        "list2 = [1, 2, 3, 4, 5, 6, 7 ]\n",
        "\n",
        "print (list1[0])\n",
        "\n",
        "print (list1[0], list1[0])\n",
        "\n",
        "print (list2[1:5], list2[1:5])"
      ]
    },
    {
      "cell_type": "code",
      "source": [
        "alpha =\"abcdefghijklmnopqrstuvwxyz\"\n",
        "alpha[3:15]"
      ],
      "metadata": {
        "colab": {
          "base_uri": "https://localhost:8080/",
          "height": 35
        },
        "id": "YriYuVMMFu0B",
        "outputId": "5af2a756-2d5a-4b87-f1c4-2c0b299d048a"
      },
      "execution_count": 13,
      "outputs": [
        {
          "output_type": "execute_result",
          "data": {
            "text/plain": [
              "'defghijklmno'"
            ],
            "application/vnd.google.colaboratory.intrinsic+json": {
              "type": "string"
            }
          },
          "metadata": {},
          "execution_count": 13
        }
      ]
    },
    {
      "cell_type": "markdown",
      "source": [
        "第4到14"
      ],
      "metadata": {
        "id": "7A9QWvTMHJW9"
      }
    },
    {
      "cell_type": "code",
      "source": [
        "alpha[3:15:3]"
      ],
      "metadata": {
        "colab": {
          "base_uri": "https://localhost:8080/",
          "height": 35
        },
        "id": "C2_6vUnVHlh_",
        "outputId": "0cb6fb7e-c374-4639-9946-cd19fadf14b8"
      },
      "execution_count": 14,
      "outputs": [
        {
          "output_type": "execute_result",
          "data": {
            "text/plain": [
              "'dgjm'"
            ],
            "application/vnd.google.colaboratory.intrinsic+json": {
              "type": "string"
            }
          },
          "metadata": {},
          "execution_count": 14
        }
      ]
    },
    {
      "cell_type": "markdown",
      "source": [
        "第4到14，每隔3"
      ],
      "metadata": {
        "id": "KlcYrT9uHtKH"
      }
    },
    {
      "cell_type": "code",
      "source": [
        "alpha[15:3:-3]"
      ],
      "metadata": {
        "colab": {
          "base_uri": "https://localhost:8080/",
          "height": 35
        },
        "id": "MQxwIN7iH3c_",
        "outputId": "a5b6166c-7d79-4a72-9fd5-3305e11432b5"
      },
      "execution_count": 15,
      "outputs": [
        {
          "output_type": "execute_result",
          "data": {
            "text/plain": [
              "'pmjg'"
            ],
            "application/vnd.google.colaboratory.intrinsic+json": {
              "type": "string"
            }
          },
          "metadata": {},
          "execution_count": 15
        }
      ]
    },
    {
      "cell_type": "markdown",
      "source": [
        "15到4，每隔3"
      ],
      "metadata": {
        "id": "pHFlRoeXIkpm"
      }
    },
    {
      "cell_type": "code",
      "source": [
        "alpha[::-3]"
      ],
      "metadata": {
        "colab": {
          "base_uri": "https://localhost:8080/",
          "height": 35
        },
        "id": "MF4z8kxNKrf_",
        "outputId": "051c851b-169e-4663-c23c-8957d35ef5bf"
      },
      "execution_count": 16,
      "outputs": [
        {
          "output_type": "execute_result",
          "data": {
            "text/plain": [
              "'zwtqnkheb'"
            ],
            "application/vnd.google.colaboratory.intrinsic+json": {
              "type": "string"
            }
          },
          "metadata": {},
          "execution_count": 16
        }
      ]
    },
    {
      "cell_type": "markdown",
      "source": [
        "最後到第1，每隔3"
      ],
      "metadata": {
        "id": "gTNpIbfhK6ym"
      }
    },
    {
      "cell_type": "code",
      "source": [
        "alpha[3:15:-1]"
      ],
      "metadata": {
        "colab": {
          "base_uri": "https://localhost:8080/",
          "height": 35
        },
        "id": "bsL8vg2mLIl0",
        "outputId": "5982930e-8fc2-4761-c123-fd412417dc86"
      },
      "execution_count": 17,
      "outputs": [
        {
          "output_type": "execute_result",
          "data": {
            "text/plain": [
              "''"
            ],
            "application/vnd.google.colaboratory.intrinsic+json": {
              "type": "string"
            }
          },
          "metadata": {},
          "execution_count": 17
        }
      ]
    },
    {
      "cell_type": "markdown",
      "source": [
        ""
      ],
      "metadata": {
        "id": "g4VLh55HLfpe"
      }
    }
  ]
}