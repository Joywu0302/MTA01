{
  "nbformat": 4,
  "nbformat_minor": 0,
  "metadata": {
    "colab": {
      "name": "Untitled1.ipynb",
      "provenance": [],
      "authorship_tag": "ABX9TyMpTZPvxnHHe5dimg7Xh0DD",
      "include_colab_link": true
    },
    "kernelspec": {
      "name": "python3",
      "display_name": "Python 3"
    },
    "language_info": {
      "name": "python"
    }
  },
  "cells": [
    {
      "cell_type": "markdown",
      "metadata": {
        "id": "view-in-github",
        "colab_type": "text"
      },
      "source": [
        "<a href=\"https://colab.research.google.com/github/Joywu0302/MTA01/blob/main/Untitled1.ipynb\" target=\"_parent\"><img src=\"https://colab.research.google.com/assets/colab-badge.svg\" alt=\"Open In Colab\"/></a>"
      ]
    },
    {
      "cell_type": "code",
      "execution_count": 2,
      "metadata": {
        "id": "_d6Ltuyn5Cbz"
      },
      "outputs": [],
      "source": [
        "lest_1 = [1,2,3]\n",
        "lest_2 = [4,5,6]\n"
      ]
    },
    {
      "cell_type": "code",
      "source": [
        " lest_1 + lest_2\n"
      ],
      "metadata": {
        "colab": {
          "base_uri": "https://localhost:8080/"
        },
        "id": "YZI13g8w7Khk",
        "outputId": "8712dd40-247b-42a7-fad2-87708a72c064"
      },
      "execution_count": 5,
      "outputs": [
        {
          "output_type": "execute_result",
          "data": {
            "text/plain": [
              "[1, 2, 3, 4, 5, 6]"
            ]
          },
          "metadata": {},
          "execution_count": 5
        }
      ]
    },
    {
      "cell_type": "code",
      "source": [
        " lest_3 * 2"
      ],
      "metadata": {
        "colab": {
          "base_uri": "https://localhost:8080/"
        },
        "id": "OAOrUIPd7P8M",
        "outputId": "ab5af47f-c6d1-492f-c2fb-45e4a54a5db8"
      },
      "execution_count": 6,
      "outputs": [
        {
          "output_type": "execute_result",
          "data": {
            "text/plain": [
              "[1, 2, 3, 4, 5, 6, 1, 2, 3, 4, 5, 6]"
            ]
          },
          "metadata": {},
          "execution_count": 6
        }
      ]
    },
    {
      "cell_type": "code",
      "source": [
        "lest_1 = [1,2,3]\n",
        "lest_2 = [4,5,6]\n",
        "lest_3 = lest_1 + lest_2\n",
        "lest_4 = lest_3 * 2\n",
        "print(list_4)"
      ],
      "metadata": {
        "id": "SsqzA_h37U7T"
      },
      "execution_count": 11,
      "outputs": []
    }
  ]
}